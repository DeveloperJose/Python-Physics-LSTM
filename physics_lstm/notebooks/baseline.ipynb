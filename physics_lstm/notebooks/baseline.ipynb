{
 "cells": [
  {
   "cell_type": "code",
   "execution_count": 29,
   "metadata": {},
   "outputs": [
    {
     "name": "stdout",
     "output_type": "stream",
     "text": [
      "Loading previous scaler\n",
      "Loading dataset /home/jperez/data/sled250 from t=510 to t=639\n",
      "Debug: X= (129, 14184, 7) Y= (129, 14184, 2)\n",
      "(1815552, 2) (1815552, 2)\n"
     ]
    }
   ],
   "source": [
    "import os\n",
    "from sklearn.metrics import mean_squared_error\n",
    "import numpy as np\n",
    "np.set_printoptions(suppress=True, linewidth=np.inf)\n",
    "\n",
    "import models\n",
    "import scaling\n",
    "import data\n",
    "\n",
    "EXPERIMENT_N = 3\n",
    "\n",
    "# Model Hyperparameters\n",
    "N_EPOCHS = 5\n",
    "\n",
    "BATCH_SIZE = 5024*4\n",
    "N_WORKERS = 4\n",
    "EARLY_STOP_PATIENCE = 5\n",
    "REDUCE_LR_PATIENCE = 3\n",
    "\n",
    "# Dataset Parameters\n",
    "LOOKBACK = 10\n",
    "INPUTS = ['X', 'Y', 'T', 'Vu', 'Vv', 'P', 'W.VF']\n",
    "OUTPUTS = ['Vu', 'Vv']\n",
    "SCALER_PATH = os.path.join('output', f'scaler_{INPUTS}.pkl')\n",
    "SCALER_CREATION_DIRS = ['/home/jperez/data/sled250']\n",
    "\n",
    "scaler = scaling.load_or_create(SCALER_PATH, SCALER_CREATION_DIRS, INPUTS, OUTPUTS)\n",
    "\n",
    "# Validation Dataset\n",
    "baseline_dataset = data.SledDataGenerator('/home/jperez/data/sled250', sequence_length=1, inputs=INPUTS, outputs=OUTPUTS, scaler=scaler, model_state=models.State.LSTM_ONLY, start=510, end=638+1)\n",
    "\n",
    "y_true = []\n",
    "y_pred = []\n",
    "for timestep in range(1, baseline_dataset.x_data.shape[0]):\n",
    "    prev_data = baseline_dataset.x_data[timestep-1]\n",
    "    prev_uv = prev_data[:, 3:5]\n",
    "    y_pred.extend(np.array(prev_uv))\n",
    "\n",
    "    curr_label = baseline_dataset.y_data[timestep]\n",
    "    y_true.extend(np.array(curr_label))\n",
    "\n",
    "y_true = np.array(y_true)\n",
    "y_pred = np.array(y_pred)\n",
    "print(y_true.shape, y_pred.shape)"
   ]
  },
  {
   "cell_type": "code",
   "execution_count": 30,
   "metadata": {},
   "outputs": [
    {
     "name": "stdout",
     "output_type": "stream",
     "text": [
      "[10.009071   2.6910658]\n"
     ]
    }
   ],
   "source": [
    "print(mean_squared_error(y_true, y_pred, multioutput='raw_values'))"
   ]
  },
  {
   "cell_type": "code",
   "execution_count": 20,
   "metadata": {},
   "outputs": [
    {
     "name": "stdout",
     "output_type": "stream",
     "text": [
      "prev_t tensor([637., 637., 637.,  ..., 637., 637., 637.])\n",
      "curr_t tensor([638., 638., 638.,  ..., 638., 638., 638.])\n",
      "tensor([249.7955,   0.4693])\n",
      "tensor([249.7957,   0.4691])\n",
      "torch.Size([14184, 2]) torch.Size([14184, 2])\n"
     ]
    }
   ],
   "source": [
    "print('prev_t', prev_data[:, 2])\n",
    "print('curr_t', baseline_dataset.x_data[timestep][:, 2])\n",
    "\n",
    "print(prev_uv[0])\n",
    "print(curr_label[0])\n",
    "\n",
    "print(curr_label.shape, prev_uv.shape)"
   ]
  },
  {
   "cell_type": "code",
   "execution_count": 7,
   "metadata": {},
   "outputs": [
    {
     "name": "stdout",
     "output_type": "stream",
     "text": [
      "Loading dataset /home/jperez/data/sled250 from t=510 to t=639\n",
      "Debug: X= (129, 14184, 7) Y= (129, 14184, 2)\n",
      "X_Data [  0.           0.25       514.         249.80435      0.45111805   2.1685417    0.        ]\n",
      "Y_Data [249.80435      0.45111805]\n",
      "\n",
      "X_Data [  0.          0.25      515.        249.80162     0.4559966   2.5739515   0.       ]\n",
      "Y_Data [249.80162     0.4559966]\n",
      "\n",
      "X_Data [  0.          0.25      516.        249.80241     0.4555527   2.2892978   0.       ]\n",
      "Y_Data [249.80241     0.4555527]\n",
      "\n",
      "(2, 0)\n",
      "Batch X [[  0.           0.25       512.         249.80118      0.45745426   2.3713412    0.        ]] (1, 7)\n",
      "Batch Y [249.80118      0.45745426] (2,)\n"
     ]
    }
   ],
   "source": [
    "baseline_dataset = data.SledDataGenerator('/home/jperez/data/sled250', sequence_length=2, inputs=INPUTS, outputs=OUTPUTS, scaler=scaler, model_state=models.State.LSTM_ONLY, start=510, end=638+1)\n",
    "# print(baseline_dataset.x_data.shape)\n",
    "timestep_id = 4\n",
    "row_id = 0\n",
    "print('X_Data', np.array(baseline_dataset.x_data[timestep_id][row_id]))\n",
    "print('Y_Data', np.array(baseline_dataset.y_data[timestep_id][row_id]))\n",
    "print()\n",
    "\n",
    "timestep_id = 5\n",
    "row_id = 0\n",
    "print('X_Data', np.array(baseline_dataset.x_data[timestep_id][row_id]))\n",
    "print('Y_Data', np.array(baseline_dataset.y_data[timestep_id][row_id]))\n",
    "print()\n",
    "\n",
    "timestep_id = 6\n",
    "row_id = 0\n",
    "print('X_Data', np.array(baseline_dataset.x_data[timestep_id][row_id]))\n",
    "print('Y_Data', np.array(baseline_dataset.y_data[timestep_id][row_id]))\n",
    "print()\n",
    "\n",
    "# batch_id = 4*14184\n",
    "batch_id = 14184*2\n",
    "batch_x = np.array(baseline_dataset[batch_id][0])\n",
    "batch_y = np.array(baseline_dataset[batch_id][1])\n",
    "print(baseline_dataset.list_IDs[batch_id])\n",
    "print('Batch X', batch_x, batch_x.shape)\n",
    "print('Batch Y', batch_y, batch_y.shape)"
   ]
  }
 ],
 "metadata": {
  "interpreter": {
   "hash": "2c224a93c8766fe4ea08c7f17fdb2ade40366f352d348d14df97b11df4144bfc"
  },
  "kernelspec": {
   "display_name": "Python 3.7.11 ('pytorch')",
   "language": "python",
   "name": "python3"
  },
  "language_info": {
   "codemirror_mode": {
    "name": "ipython",
    "version": 3
   },
   "file_extension": ".py",
   "mimetype": "text/x-python",
   "name": "python",
   "nbconvert_exporter": "python",
   "pygments_lexer": "ipython3",
   "version": "3.7.11"
  },
  "orig_nbformat": 4
 },
 "nbformat": 4,
 "nbformat_minor": 2
}
